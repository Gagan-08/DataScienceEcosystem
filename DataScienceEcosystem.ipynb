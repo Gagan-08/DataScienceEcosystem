{
  "nbformat": 4,
  "nbformat_minor": 0,
  "metadata": {
    "colab": {
      "provenance": []
    },
    "kernelspec": {
      "name": "python3",
      "display_name": "Python 3"
    },
    "language_info": {
      "name": "python"
    }
  },
  "cells": [
    {
      "cell_type": "markdown",
      "source": [
        "# Data Science Tools and Ecosystem"
      ],
      "metadata": {
        "id": "1dMckyXvbN3W"
      }
    },
    {
      "cell_type": "markdown",
      "source": [
        "# In this notebook, Data Science Tools and Ecosystem are summarized."
      ],
      "metadata": {
        "id": "KXA4Rd5NbzN7"
      }
    },
    {
      "cell_type": "markdown",
      "source": [
        "**Objectives:**\n",
        "\n",
        "\n",
        "*   Popular languages used by data scientists\n",
        "*   Commonly used libraries by data scientists\n",
        "*   Data Science tools\n",
        "*   Evaluate arithematic expresssions in Python\n",
        "\n"
      ],
      "metadata": {
        "id": "uq4rXR8wiXJe"
      }
    },
    {
      "cell_type": "markdown",
      "source": [
        "## Some of the popular languages that Data Scientists use are:\n",
        "\n",
        "1.   Python\n",
        "2.   R\n",
        "3.   Java\n",
        "\n"
      ],
      "metadata": {
        "id": "FyVuFKQWcUCi"
      }
    },
    {
      "cell_type": "markdown",
      "source": [
        "## Some of the commonly used libraries used by Data Scientists include:\n",
        "\n",
        "\n",
        "\n",
        "1.   TensorFlow\n",
        "2.   NumPy\n",
        "3.   Matplotlib\n",
        "\n"
      ],
      "metadata": {
        "id": "YyAWg-cMdQqx"
      }
    },
    {
      "cell_type": "markdown",
      "source": [
        "|Data Science Tools|\n",
        "---\n",
        "|RStudio|\n",
        "|Apache Spark|\n",
        "|TensorFlow|"
      ],
      "metadata": {
        "id": "vHKftuHpeIPc"
      }
    },
    {
      "cell_type": "markdown",
      "source": [
        "### Below are a few examples of evaluating arithmetic expressions in Python"
      ],
      "metadata": {
        "id": "r-BF7dERf-C4"
      }
    },
    {
      "cell_type": "code",
      "source": [
        "# This a simple arithmetic expression to mutiply then add integers\n",
        "(3*4)+5"
      ],
      "metadata": {
        "id": "9TRCk8cthhwy"
      },
      "execution_count": null,
      "outputs": []
    },
    {
      "cell_type": "code",
      "source": [
        "# This will convert 200 minutes to hours by diving by 60\n",
        "200//60"
      ],
      "metadata": {
        "id": "QgWjNGO8h4F4"
      },
      "execution_count": null,
      "outputs": []
    },
    {
      "cell_type": "markdown",
      "source": [
        "## Author\n",
        "Gagan Bansal"
      ],
      "metadata": {
        "id": "JYyFx06vi_DL"
      }
    }
  ]
}